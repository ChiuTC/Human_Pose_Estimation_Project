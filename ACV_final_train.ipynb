{
 "cells": [
  {
   "cell_type": "code",
   "execution_count": null,
   "id": "2665e719",
   "metadata": {},
   "outputs": [],
   "source": [
    "import cv2\n",
    "import mediapipe as mp\n",
    "import numpy as np\n",
    "import os\n",
    "import mediapipeFuncions\n",
    "from tensorflow.keras.utils import to_categorical\n",
    "mp_drawing = mp.solutions.drawing_utils          # mediapipe 繪圖方法\n",
    "mp_drawing_styles = mp.solutions.drawing_styles  # mediapipe 繪圖樣式\n",
    "mp_pose = mp.solutions.pose                      # mediapipe 姿勢偵測\n",
    "mp_holistic = mp.solutions.holistic # Holistic model"
   ]
  },
  {
   "cell_type": "code",
   "execution_count": null,
   "id": "5c56c4b1",
   "metadata": {},
   "outputs": [],
   "source": [
    "os.environ[\"CUDA_VISIBLE_DEVICES\"]='-1' "
   ]
  },
  {
   "cell_type": "code",
   "execution_count": null,
   "id": "395811a4",
   "metadata": {},
   "outputs": [],
   "source": [
    "# Path for exported data, numpy arrays\n",
    "DATA_PATH = os.path.join('MP_Data_flip') \n",
    "\n",
    "# Actions that we try to detect\n",
    "actions = np.array(['Reading', 'Writing', 'PlayWithPhone'])\n",
    "\n",
    "# Thirty videos worth of data\n",
    "no_sequences = 3\n",
    "\n",
    "# Videos are going to be 30 frames in length\n",
    "sequence_length = 60\n",
    "\n",
    "# Folder start\n",
    "start_folder = 0"
   ]
  },
  {
   "cell_type": "code",
   "execution_count": null,
   "id": "c9c755dc",
   "metadata": {},
   "outputs": [],
   "source": [
    "for action in actions: # This will loop through all the different gestures\n",
    "    for sequence in range(no_sequences):\n",
    "        try:\n",
    "            os.makedirs(os.path.join(DATA_PATH, action, str(sequence))) # This will create all necesary folders, subfolders and sequences\n",
    "        except:\n",
    "            pass"
   ]
  },
  {
   "cell_type": "code",
   "execution_count": null,
   "id": "89e915e7",
   "metadata": {},
   "outputs": [],
   "source": [
    "# Extracting skeleton points for Level3 training data using Mediapipe.\n",
    "# Reading \n",
    "video_reading  = np.array(['training/3/S001C001P001R001A011_rgb.avi',\n",
    "                           'training/3/S001C001P003R001A011_rgb.avi',\n",
    "                           'training/3/S001C001P003R002A011_rgb.avi',])\n",
    "# Writing\n",
    "video_writing  = np.array(['training/3/S001C001P001R001A012_rgb.avi',\n",
    "                           'training/3/S001C001P003R001A012_rgb.avi',\n",
    "                           'training/3/S001C001P003R002A012_rgb.avi',])\n",
    "# Play with phone\n",
    "video_play = np.array(['training/3/S001C001P001R001A029_rgb.avi',\n",
    "                           'training/3/S001C001P003R001A029_rgb.avi',\n",
    "                           'training/3/S001C001P003R002A029_rgb.avi',])\n",
    "# Set mediapipe model \n",
    "with mp_holistic.Holistic(min_detection_confidence=0.5, min_tracking_confidence=0.5) as holistic:\n",
    "   \n",
    "    # NEW LOOP\n",
    "    # Loop through actions\n",
    "     for action in actions:\n",
    "        # Loop through sequences aka videos\n",
    "        for sequence in range(start_folder, start_folder+no_sequences):\n",
    "            # Loop through video length aka sequence length\n",
    "            if(action == 'Reading'):\n",
    "                cap = cv2.VideoCapture(video_reading[sequence])\n",
    "            elif(action == 'Writing'):\n",
    "                cap = cv2.VideoCapture(video_writing[sequence])\n",
    "            elif(action == 'PlayWithPhone'):\n",
    "                cap = cv2.VideoCapture(video_play[sequence])\n",
    "            for frame_num in range(sequence_length):\n",
    "                \n",
    "                # Read feed\n",
    "                ret, frame = cap.read()\n",
    "                frame_cut = frame[135:850, 640:1440]\n",
    "                frame_cut = cv2.flip(frame_cut, 1)\n",
    "                M = cv2.getRotationMatrix2D(((800-1)/2.0, (715-1/2.0)), 5, 1)\n",
    "                frame_cut = cv2.warpAffine(frame_cut, M, (800,715))\n",
    "                \n",
    "                mat_translation = np.float32([[1, 0, -50], [0, 1, -50]]) # 變換矩陣：設定平移變換所需的計算矩陣：2行3列\n",
    "                frame_cut = cv2.warpAffine(frame_cut, mat_translation, (800 - 50, 715 - 50))  # 變換函數\n",
    "                # Make detections\n",
    "                image, results = mediapipeFuncions.mediapipe_detection(frame_cut, holistic)\n",
    "\n",
    "                # Draw landmarks\n",
    "                mediapipeFuncions.draw_styled_landmarks(image, results)\n",
    "#                 print(frame_num)\n",
    "                # NEW Apply wait logic\n",
    "                if frame_num == 0: \n",
    "                    cv2.putText(image, 'STARTING COLLECTION', (120,200), \n",
    "                               cv2.FONT_HERSHEY_SIMPLEX, 1, (0,255, 0), 4, cv2.LINE_AA)\n",
    "                    cv2.putText(image, 'Collecting frames for {} Video Number {}'.format(action, sequence), (15,12), \n",
    "                               cv2.FONT_HERSHEY_SIMPLEX, 0.5, (0, 0, 255), 1, cv2.LINE_AA)\n",
    "                    # Show to screen\n",
    "                    cv2.imshow('OpenCV Feed', image)\n",
    "                    cv2.waitKey(500)\n",
    "                else: \n",
    "                    cv2.putText(image, 'Collecting frames for {} Video Number {}'.format(action, sequence), (15,12), \n",
    "                               cv2.FONT_HERSHEY_SIMPLEX, 0.5, (0, 0, 255), 1, cv2.LINE_AA)\n",
    "                    # Show to screen\n",
    "                    cv2.imshow('OpenCV Feed', image)\n",
    "                \n",
    "                # NEW Export keypoints\n",
    "                keypoints = mediapipeFuncions.extract_keypoints(results)\n",
    "                npy_path = os.path.join(DATA_PATH, action, str(sequence), str(frame_num))\n",
    "#                 os.makedirs(npy_path)\n",
    "                np.save(npy_path, keypoints)\n",
    "\n",
    "                # Break gracefully\n",
    "                if cv2.waitKey(10) & 0xFF == ord('q') or frame_num == 59:\n",
    "                    break\n",
    "\n",
    "     cap.release()\n",
    "     cv2.destroyAllWindows()"
   ]
  },
  {
   "cell_type": "code",
   "execution_count": null,
   "id": "2a2f1569",
   "metadata": {},
   "outputs": [],
   "source": [
    "cap.release()\n",
    "cv2.destroyAllWindows()"
   ]
  },
  {
   "cell_type": "code",
   "execution_count": null,
   "id": "132f9d55",
   "metadata": {},
   "outputs": [],
   "source": [
    "DATA_PATH = os.path.join('MP_Data_flip') "
   ]
  },
  {
   "cell_type": "code",
   "execution_count": null,
   "id": "912dd5a0",
   "metadata": {},
   "outputs": [],
   "source": [
    "label_map = {label:num for num, label in enumerate(actions)}"
   ]
  },
  {
   "cell_type": "code",
   "execution_count": null,
   "id": "64875995",
   "metadata": {},
   "outputs": [],
   "source": [
    "label_map"
   ]
  },
  {
   "cell_type": "code",
   "execution_count": null,
   "id": "30883cc2",
   "metadata": {},
   "outputs": [],
   "source": [
    "sequences, labels = [], []\n",
    "for action in actions:\n",
    "    for sequence in np.array(os.listdir(os.path.join(DATA_PATH, action))).astype(int):\n",
    "        window = []\n",
    "        for frame_num in range(sequence_length):\n",
    "            res = np.load(os.path.join(DATA_PATH, action, str(sequence), \"{}.npy\".format(frame_num)))\n",
    "            window.append(res)\n",
    "        sequences.append(window)\n",
    "        labels.append(label_map[action])"
   ]
  },
  {
   "cell_type": "code",
   "execution_count": null,
   "id": "092b62f2",
   "metadata": {},
   "outputs": [],
   "source": [
    "np.array(sequences).shape"
   ]
  },
  {
   "cell_type": "code",
   "execution_count": null,
   "id": "b9941d76",
   "metadata": {},
   "outputs": [],
   "source": [
    "np.array(labels).shape"
   ]
  },
  {
   "cell_type": "code",
   "execution_count": null,
   "id": "60c33d4e",
   "metadata": {},
   "outputs": [],
   "source": [
    "X = np.array(sequences)\n",
    "X.shape"
   ]
  },
  {
   "cell_type": "code",
   "execution_count": null,
   "id": "4471d156",
   "metadata": {},
   "outputs": [],
   "source": [
    "y = to_categorical(labels).astype(int)\n",
    "y.shape"
   ]
  },
  {
   "cell_type": "code",
   "execution_count": null,
   "id": "0fc2efd6",
   "metadata": {},
   "outputs": [],
   "source": [
    "from tensorflow.keras.models import Sequential\n",
    "from tensorflow.keras.layers import LSTM, Dense\n",
    "from tensorflow.keras.callbacks import TensorBoard"
   ]
  },
  {
   "cell_type": "code",
   "execution_count": null,
   "id": "5d38901d",
   "metadata": {},
   "outputs": [],
   "source": [
    "from datetime import datetime\n",
    "# log_dir = os.path.join('Logs')\n",
    "log_dir = \"logs/fit/\" + datetime.now().strftime(\"%Y%m%d-%H%M%S\")\n",
    "tb_callback = TensorBoard(log_dir=log_dir)"
   ]
  },
  {
   "cell_type": "code",
   "execution_count": null,
   "id": "249b6b89",
   "metadata": {},
   "outputs": [],
   "source": [
    "from keras.layers import Dropout\n",
    "from keras import regularizers\n",
    "model = Sequential()\n",
    "# model.add(LSTM(32, return_sequences=True, activation='relu'))\n",
    "model.add(LSTM(64, return_sequences=True, activation='relu', input_shape=(60,1662)))\n",
    "model.add(LSTM(128, return_sequences=True, activation='relu'))\n",
    "model.add(LSTM(128, return_sequences=True, activation='relu'))\n",
    "model.add(LSTM(64, return_sequences=False, activation='relu'))\n",
    "model.add(Dense(64, activation='relu', kernel_regularizer=regularizers.l2(0.01)))\n",
    "model.add(Dense(32, activation='relu', kernel_regularizer=regularizers.l2(0.01)))\n",
    "model.add(Dense(actions.shape[0], activation='softmax'))"
   ]
  },
  {
   "cell_type": "code",
   "execution_count": null,
   "id": "bfa1d4fa",
   "metadata": {},
   "outputs": [],
   "source": [
    "%load_ext tensorboard"
   ]
  },
  {
   "cell_type": "code",
   "execution_count": null,
   "id": "83595471",
   "metadata": {
    "scrolled": true
   },
   "outputs": [],
   "source": [
    "%tensorboard --logdir=</ACV_results>"
   ]
  },
  {
   "cell_type": "code",
   "execution_count": null,
   "id": "f3eaa34a",
   "metadata": {},
   "outputs": [],
   "source": [
    "model.compile(optimizer='Adam', loss='categorical_crossentropy', metrics=['categorical_accuracy'])"
   ]
  },
  {
   "cell_type": "code",
   "execution_count": null,
   "id": "015281da",
   "metadata": {
    "scrolled": true
   },
   "outputs": [],
   "source": [
    "model.fit(X, y, epochs=1500,batch_size=6, callbacks=[tb_callback])"
   ]
  },
  {
   "cell_type": "code",
   "execution_count": null,
   "id": "784869ce",
   "metadata": {},
   "outputs": [],
   "source": [
    "#model.save('my_model.h5')"
   ]
  }
 ],
 "metadata": {
  "kernelspec": {
   "display_name": "TensorFlow",
   "language": "python",
   "name": "tensorflow"
  },
  "language_info": {
   "codemirror_mode": {
    "name": "ipython",
    "version": 3
   },
   "file_extension": ".py",
   "mimetype": "text/x-python",
   "name": "python",
   "nbconvert_exporter": "python",
   "pygments_lexer": "ipython3",
   "version": "3.7.16"
  }
 },
 "nbformat": 4,
 "nbformat_minor": 5
}
